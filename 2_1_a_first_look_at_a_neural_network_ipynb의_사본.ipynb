{
  "nbformat": 4,
  "nbformat_minor": 0,
  "metadata": {
    "kernelspec": {
      "display_name": "Python 3",
      "language": "python",
      "name": "python3"
    },
    "language_info": {
      "codemirror_mode": {
        "name": "ipython",
        "version": 3
      },
      "file_extension": ".py",
      "mimetype": "text/x-python",
      "name": "python",
      "nbconvert_exporter": "python",
      "pygments_lexer": "ipython3",
      "version": "3.6.5"
    },
    "colab": {
      "name": "2.1-a-first-look-at-a-neural-network.ipynb의 사본",
      "provenance": [],
      "include_colab_link": true
    }
  },
  "cells": [
    {
      "cell_type": "markdown",
      "metadata": {
        "id": "view-in-github",
        "colab_type": "text"
      },
      "source": [
        "<a href=\"https://colab.research.google.com/github/seogitae/DeepLearning/blob/main/2_1_a_first_look_at_a_neural_network_ipynb%EC%9D%98_%EC%82%AC%EB%B3%B8.ipynb\" target=\"_parent\"><img src=\"https://colab.research.google.com/assets/colab-badge.svg\" alt=\"Open In Colab\"/></a>"
      ]
    },
    {
      "cell_type": "code",
      "metadata": {
        "id": "PuC4etL0oLjU",
        "colab": {
          "base_uri": "https://localhost:8080/",
          "height": 34
        },
        "outputId": "7615252d-2bef-4197-d44d-0db20699770c"
      },
      "source": [
        "import tensorflow\n",
        "tensorflow.keras.__version__"
      ],
      "execution_count": 3,
      "outputs": [
        {
          "output_type": "execute_result",
          "data": {
            "application/vnd.google.colaboratory.intrinsic+json": {
              "type": "string"
            },
            "text/plain": [
              "'2.4.0'"
            ]
          },
          "metadata": {
            "tags": []
          },
          "execution_count": 3
        }
      ]
    },
    {
      "cell_type": "markdown",
      "metadata": {
        "id": "L_pqoEkGoLjb"
      },
      "source": [
        "# A first look at a neural network\n",
        "\n",
        "This notebook contains the code samples found in Chapter 2, Section 1 of [Deep Learning with Python](https://www.manning.com/books/deep-learning-with-python?a_aid=keras&a_bid=76564dff). Note that the original text features far more content, in particular further explanations and figures: in this notebook, you will only find source code and related comments.\n",
        "\n",
        "----\n",
        "\n",
        "We will now take a look at a first concrete example of a neural network, which makes use of the Python library Keras to learn to classify \n",
        "hand-written digits. Unless you already have experience with Keras or similar libraries, you will not understand everything about this \n",
        "first example right away. You probably haven't even installed Keras yet. Don't worry, that is perfectly fine. In the next chapter, we will \n",
        "review each element in our example and explain them in detail. So don't worry if some steps seem arbitrary or look like magic to you! \n",
        "We've got to start somewhere.\n",
        "\n",
        "The problem we are trying to solve here is to classify grayscale images of handwritten digits (28 pixels by 28 pixels), into their 10 \n",
        "categories (0 to 9). The dataset we will use is the MNIST dataset, a classic dataset in the machine learning community, which has been \n",
        "around for almost as long as the field itself and has been very intensively studied. It's a set of 60,000 training images, plus 10,000 test \n",
        "images, assembled by the National Institute of Standards and Technology (the NIST in MNIST) in the 1980s. You can think of \"solving\" MNIST \n",
        "as the \"Hello World\" of deep learning -- it's what you do to verify that your algorithms are working as expected. As you become a machine \n",
        "learning practitioner, you will see MNIST come up over and over again, in scientific papers, blog posts, and so on."
      ]
    },
    {
      "cell_type": "markdown",
      "metadata": {
        "id": "BB8w5Sm7oLjc"
      },
      "source": [
        "The MNIST dataset comes pre-loaded in Keras, in the form of a set of four Numpy arrays:"
      ]
    },
    {
      "cell_type": "code",
      "metadata": {
        "id": "QSrbPxzpoLjd",
        "colab": {
          "base_uri": "https://localhost:8080/"
        },
        "outputId": "88be109c-0c73-4ff8-cca2-11747bc60022"
      },
      "source": [
        "from tensorflow.keras.datasets import mnist\n",
        "\n",
        "(train_images, train_labels), (test_images, test_labels) = mnist.load_data()"
      ],
      "execution_count": 4,
      "outputs": [
        {
          "output_type": "stream",
          "text": [
            "Downloading data from https://storage.googleapis.com/tensorflow/tf-keras-datasets/mnist.npz\n",
            "11493376/11490434 [==============================] - 0s 0us/step\n"
          ],
          "name": "stdout"
        }
      ]
    },
    {
      "cell_type": "markdown",
      "metadata": {
        "id": "1ciZuVpltfTN"
      },
      "source": [
        "mnist 데이터를 받는 코드이다. \r\n",
        "\r\n",
        "인자를 튜플을 사용하여 위의 형식으로 받는 이유는 mnist?를 입력하면 나온다."
      ]
    },
    {
      "cell_type": "markdown",
      "metadata": {
        "id": "QShslHwnoLje"
      },
      "source": [
        "`train_images` and `train_labels` form the \"training set\", the data that the model will learn from. The model will then be tested on the \n",
        "\"test set\", `test_images` and `test_labels`. Our images are encoded as Numpy arrays, and the labels are simply an array of digits, ranging \n",
        "from 0 to 9. There is a one-to-one correspondence between the images and the labels.\n",
        "\n",
        "Let's have a look at the training data:"
      ]
    },
    {
      "cell_type": "markdown",
      "metadata": {
        "id": "U0KYy8zfoLje"
      },
      "source": [
        "퍼미션 에러가 나는 경우도 있는데, sudo 를 사용해서 노트북을 열거나, 에러가 나는 폴더(데이터 저장폴더)의 권한을 쓰기 가능하도록 변경해주어야 합니다. "
      ]
    },
    {
      "cell_type": "code",
      "metadata": {
        "id": "sYVBV2Oto8wq",
        "colab": {
          "base_uri": "https://localhost:8080/"
        },
        "outputId": "b51387c7-4554-4fca-dde1-c0ffa3f8dfc4"
      },
      "source": [
        "train_images[:2,:,:]"
      ],
      "execution_count": 5,
      "outputs": [
        {
          "output_type": "execute_result",
          "data": {
            "text/plain": [
              "array([[[0, 0, 0, ..., 0, 0, 0],\n",
              "        [0, 0, 0, ..., 0, 0, 0],\n",
              "        [0, 0, 0, ..., 0, 0, 0],\n",
              "        ...,\n",
              "        [0, 0, 0, ..., 0, 0, 0],\n",
              "        [0, 0, 0, ..., 0, 0, 0],\n",
              "        [0, 0, 0, ..., 0, 0, 0]],\n",
              "\n",
              "       [[0, 0, 0, ..., 0, 0, 0],\n",
              "        [0, 0, 0, ..., 0, 0, 0],\n",
              "        [0, 0, 0, ..., 0, 0, 0],\n",
              "        ...,\n",
              "        [0, 0, 0, ..., 0, 0, 0],\n",
              "        [0, 0, 0, ..., 0, 0, 0],\n",
              "        [0, 0, 0, ..., 0, 0, 0]]], dtype=uint8)"
            ]
          },
          "metadata": {
            "tags": []
          },
          "execution_count": 5
        }
      ]
    },
    {
      "cell_type": "markdown",
      "metadata": {
        "id": "QQdMeO3ktsTs"
      },
      "source": [
        "앞에 두개의 데이터를 불러온다? 위의 두개의 사진을 불러오는 것과 같음."
      ]
    },
    {
      "cell_type": "code",
      "metadata": {
        "id": "gXjkJP15oLjf",
        "colab": {
          "base_uri": "https://localhost:8080/"
        },
        "outputId": "b677d4a1-5c98-4226-d4d0-3dd482c4993e"
      },
      "source": [
        "train_images.shape"
      ],
      "execution_count": 6,
      "outputs": [
        {
          "output_type": "execute_result",
          "data": {
            "text/plain": [
              "(60000, 28, 28)"
            ]
          },
          "metadata": {
            "tags": []
          },
          "execution_count": 6
        }
      ]
    },
    {
      "cell_type": "markdown",
      "metadata": {
        "id": "CV4YvnFEt4rW"
      },
      "source": [
        "28 * 28 pixel 그림."
      ]
    },
    {
      "cell_type": "code",
      "metadata": {
        "id": "SAIvgrHXoLjg",
        "colab": {
          "base_uri": "https://localhost:8080/"
        },
        "outputId": "0cd55c94-6111-491d-ac3c-72db515c6343"
      },
      "source": [
        "len(train_labels)"
      ],
      "execution_count": 7,
      "outputs": [
        {
          "output_type": "execute_result",
          "data": {
            "text/plain": [
              "60000"
            ]
          },
          "metadata": {
            "tags": []
          },
          "execution_count": 7
        }
      ]
    },
    {
      "cell_type": "markdown",
      "metadata": {
        "id": "J3atK0Axuev_"
      },
      "source": [
        " 정답의 길이를 보여준다."
      ]
    },
    {
      "cell_type": "code",
      "metadata": {
        "id": "hR5e_kR8oLjh",
        "colab": {
          "base_uri": "https://localhost:8080/"
        },
        "outputId": "d7c698d4-4f49-4468-b453-c5f359b21d20"
      },
      "source": [
        "train_labels "
      ],
      "execution_count": 8,
      "outputs": [
        {
          "output_type": "execute_result",
          "data": {
            "text/plain": [
              "array([5, 0, 4, ..., 5, 6, 8], dtype=uint8)"
            ]
          },
          "metadata": {
            "tags": []
          },
          "execution_count": 8
        }
      ]
    },
    {
      "cell_type": "markdown",
      "metadata": {
        "id": "XMFaRbMsukLL"
      },
      "source": [
        "실제 정답 값을 출력한다. 첫 번째 그림의 정답은 5임을 알 수 있다. "
      ]
    },
    {
      "cell_type": "markdown",
      "metadata": {
        "id": "2LYkZOZToLji"
      },
      "source": [
        "Let's have a look at the test data:"
      ]
    },
    {
      "cell_type": "code",
      "metadata": {
        "id": "RPREbXvOoLjj",
        "colab": {
          "base_uri": "https://localhost:8080/"
        },
        "outputId": "b751a10c-2b5c-4446-f40a-edec11c084ba"
      },
      "source": [
        "test_images.shape"
      ],
      "execution_count": 9,
      "outputs": [
        {
          "output_type": "execute_result",
          "data": {
            "text/plain": [
              "(10000, 28, 28)"
            ]
          },
          "metadata": {
            "tags": []
          },
          "execution_count": 9
        }
      ]
    },
    {
      "cell_type": "code",
      "metadata": {
        "id": "TFeXW_mhoLjk",
        "colab": {
          "base_uri": "https://localhost:8080/"
        },
        "outputId": "c4a5432d-c78b-41d0-b58f-2eeb211394e2"
      },
      "source": [
        "len(test_labels)"
      ],
      "execution_count": 10,
      "outputs": [
        {
          "output_type": "execute_result",
          "data": {
            "text/plain": [
              "10000"
            ]
          },
          "metadata": {
            "tags": []
          },
          "execution_count": 10
        }
      ]
    },
    {
      "cell_type": "code",
      "metadata": {
        "id": "iSDxJ18eoLjk",
        "colab": {
          "base_uri": "https://localhost:8080/"
        },
        "outputId": "ad19921c-e743-4eb9-ef27-a78f33e5969a"
      },
      "source": [
        "test_labels"
      ],
      "execution_count": 11,
      "outputs": [
        {
          "output_type": "execute_result",
          "data": {
            "text/plain": [
              "array([7, 2, 1, ..., 4, 5, 6], dtype=uint8)"
            ]
          },
          "metadata": {
            "tags": []
          },
          "execution_count": 11
        }
      ]
    },
    {
      "cell_type": "markdown",
      "metadata": {
        "id": "TYvw1ejtoLjl"
      },
      "source": [
        "Our workflow will be as follow: first we will present our neural network with the training data, `train_images` and `train_labels`. The \n",
        "network will then learn to associate images and labels. Finally, we will ask the network to produce predictions for `test_images`, and we \n",
        "will verify if these predictions match the labels from `test_labels`.\n",
        "\n",
        "Let's build our network -- again, remember that you aren't supposed to understand everything about this example just yet."
      ]
    },
    {
      "cell_type": "code",
      "metadata": {
        "id": "sT7NxnE4oLjl"
      },
      "source": [
        "from tensorflow.keras import models\n",
        "from tensorflow.keras import layers\n",
        "\n",
        "network = models.Sequential()\n",
        "network.add(layers.Dense(512, activation='relu', input_shape=(28 * 28,)))\n",
        "network.add(layers.Dense(10, activation='softmax'))"
      ],
      "execution_count": 12,
      "outputs": []
    },
    {
      "cell_type": "markdown",
      "metadata": {
        "id": "4AjTUijkuqWz"
      },
      "source": [
        "핵심이 되는 부분 모형을 정의하는 부분\r\n",
        "\r\n",
        "케라스 모듈을 이용하여 수행\r\n",
        "\r\n",
        "input and ouput(다음 단계의 input 이겠지..?)에 대해서 함수를 정의해주는 것\r\n",
        "\r\n",
        "예를 들어, 위에서는 28 * 28의 데이터를 input으로 받아서 relu 함수를 통해 512 차원의 값을 출력해주고\r\n",
        "\r\n",
        "앞선 512 차원의 값이 다시 input이 되어서 softmax 함수를 통해 10 차원의 값을 출력해준다..? (아래 설명에서는 각 10개의 값들은 확률이라고 한다..)   "
      ]
    },
    {
      "cell_type": "markdown",
      "metadata": {
        "id": "D5fXSl_2oLjl"
      },
      "source": [
        "\n",
        "The core building block of neural networks is the \"layer\", a data-processing module which you can conceive as a \"filter\" for data. Some \n",
        "data comes in, and comes out in a more useful form. Precisely, layers extract _representations_ out of the data fed into them -- hopefully \n",
        "representations that are more meaningful for the problem at hand. Most of deep learning really consists of chaining together simple layers \n",
        "which will implement a form of progressive \"data distillation\". A deep learning model is like a sieve for data processing, made of a \n",
        "succession of increasingly refined data filters -- the \"layers\".\n",
        "\n",
        "Here our network consists of a sequence of two `Dense` layers, which are densely-connected (also called \"fully-connected\") neural layers. \n",
        "The second (and last) layer is a 10-way \"softmax\" layer, which means it will return an array of 10 probability scores (summing to 1). Each \n",
        "score will be the probability that the current digit image belongs to one of our 10 digit classes.\n",
        "\n",
        "To make our network ready for training, we need to pick three more things, as part of \"compilation\" step:\n",
        "\n",
        "* A loss function: the is how the network will be able to measure how good a job it is doing on its training data, and thus how it will be \n",
        "able to steer itself in the right direction.\n",
        "* An optimizer: this is the mechanism through which the network will update itself based on the data it sees and its loss function.\n",
        "* Metrics to monitor during training and testing. Here we will only care about accuracy (the fraction of the images that were correctly \n",
        "classified).\n",
        "\n",
        "The exact purpose of the loss function and the optimizer will be made clear throughout the next two chapters."
      ]
    },
    {
      "cell_type": "code",
      "metadata": {
        "id": "JWzQYBjroLjm"
      },
      "source": [
        "network.compile(optimizer='rmsprop',\n",
        "                loss='categorical_crossentropy',\n",
        "                metrics=['accuracy'])"
      ],
      "execution_count": 13,
      "outputs": []
    },
    {
      "cell_type": "markdown",
      "metadata": {
        "id": "20hM18B4u6r8"
      },
      "source": [
        "loss와 metrics의 차이가 뭘까?\r\n",
        "\r\n",
        "왜 loss를 minimize하면서 metrics로 Accuracy를 monitoring하는 거지?\r\n",
        "\r\n",
        "loss function과 cost funtion은 같은 말인가?\r\n",
        "\r\n",
        "아래의 코드는 앞서 sequential로 만든 network를 어떻게 training할 것인지를 정의하는 코드라고 함."
      ]
    },
    {
      "cell_type": "markdown",
      "metadata": {
        "id": "JhIULFC9oLjm"
      },
      "source": [
        "\n",
        "Before training, we will preprocess our data by reshaping it into the shape that the network expects, and scaling it so that all values are in \n",
        "the `[0, 1]` interval. Previously, our training images for instance were stored in an array of shape `(60000, 28, 28)` of type `uint8` with \n",
        "values in the `[0, 255]` interval. We transform it into a `float32` array of shape `(60000, 28 * 28)` with values between 0 and 1."
      ]
    },
    {
      "cell_type": "code",
      "metadata": {
        "id": "LE6dScvuvpIZ",
        "colab": {
          "base_uri": "https://localhost:8080/"
        },
        "outputId": "f706739b-fa1d-487d-9e1e-f8d32e56ae04"
      },
      "source": [
        "import numpy as np\r\n",
        "np.max(train_images)"
      ],
      "execution_count": 14,
      "outputs": [
        {
          "output_type": "execute_result",
          "data": {
            "text/plain": [
              "255"
            ]
          },
          "metadata": {
            "tags": []
          },
          "execution_count": 14
        }
      ]
    },
    {
      "cell_type": "code",
      "metadata": {
        "id": "ZEUCOln3wVZw",
        "colab": {
          "base_uri": "https://localhost:8080/"
        },
        "outputId": "29aee12f-63b1-4f4b-86ff-c55f4755ae78"
      },
      "source": [
        "train_images.shape"
      ],
      "execution_count": 15,
      "outputs": [
        {
          "output_type": "execute_result",
          "data": {
            "text/plain": [
              "(60000, 28, 28)"
            ]
          },
          "metadata": {
            "tags": []
          },
          "execution_count": 15
        }
      ]
    },
    {
      "cell_type": "code",
      "metadata": {
        "id": "YVgKAAcqoLjn"
      },
      "source": [
        "train_images = train_images.reshape((60000, 28 * 28))\n",
        "train_images = train_images.astype('float32') / 255\n",
        "\n",
        "test_images = test_images.reshape((10000, 28 * 28))\n",
        "test_images = test_images.astype('float32') / 255"
      ],
      "execution_count": 16,
      "outputs": []
    },
    {
      "cell_type": "markdown",
      "metadata": {
        "id": "7DBok-yjvLg8"
      },
      "source": [
        "mnist data의 pixel range는 0부터 255까지의 값을 가짐.\r\n",
        "\r\n",
        "그런데, 딥러닝 모델은 input값이 0~1 사이의 값을 가질 때, 더 효율적!?으로 학습한다고 함.  \r\n",
        "\r\n",
        "그래서 위의 코드에서 보는 것처럼 픽셀 값을 255로 나누어 줌. (이러한 scaling은 반드시 수행해야 하는 과정은 아니라고 함.)\r\n",
        "\r\n",
        "현재 설명부에 해당하는 블럭의 아래, 위 코드를 보면, max값이 255에서 1로 나타나는 것을 알 수 있음.\r\n",
        "\r\n",
        "\r\n",
        "그리고 지금 reshape을 통해서 train data의 dimension을 바꿔주는 것을 알 수 있음. \r\n",
        "\r\n",
        "이 또한, 현재의 블럭 아래, 위 코드를 보면 (60000, 28, 28) -> (60000. 784)를 통해 확인할 수 있음. \r\n",
        "\r\n",
        "앞에서 모델 construct한 것을 보면, 첫번째 layer에서 input data의 shape을 28 * 28로 받는 것을 알 수 있음. (같이 확인할 것.)"
      ]
    },
    {
      "cell_type": "code",
      "metadata": {
        "id": "MYU-uQg1v18T",
        "colab": {
          "base_uri": "https://localhost:8080/"
        },
        "outputId": "94e17b36-4794-465d-d03a-2256750f50d2"
      },
      "source": [
        "import numpy as np\r\n",
        "np.max(train_images)"
      ],
      "execution_count": 17,
      "outputs": [
        {
          "output_type": "execute_result",
          "data": {
            "text/plain": [
              "1.0"
            ]
          },
          "metadata": {
            "tags": []
          },
          "execution_count": 17
        }
      ]
    },
    {
      "cell_type": "code",
      "metadata": {
        "id": "eVBDfBJSwYQE",
        "colab": {
          "base_uri": "https://localhost:8080/"
        },
        "outputId": "4672b634-9046-4327-ad65-4aa0b7cf0a29"
      },
      "source": [
        "train_images.shape"
      ],
      "execution_count": 18,
      "outputs": [
        {
          "output_type": "execute_result",
          "data": {
            "text/plain": [
              "(60000, 784)"
            ]
          },
          "metadata": {
            "tags": []
          },
          "execution_count": 18
        }
      ]
    },
    {
      "cell_type": "markdown",
      "metadata": {
        "id": "qO_tdpMcoLjn"
      },
      "source": [
        "We also need to categorically encode the labels, a step which we explain in chapter 3:"
      ]
    },
    {
      "cell_type": "code",
      "metadata": {
        "id": "HaEz0tyXLWZr",
        "colab": {
          "base_uri": "https://localhost:8080/"
        },
        "outputId": "a63f20b3-6409-497c-fc22-ffca4f6c4268"
      },
      "source": [
        "train_labels"
      ],
      "execution_count": 19,
      "outputs": [
        {
          "output_type": "execute_result",
          "data": {
            "text/plain": [
              "array([5, 0, 4, ..., 5, 6, 8], dtype=uint8)"
            ]
          },
          "metadata": {
            "tags": []
          },
          "execution_count": 19
        }
      ]
    },
    {
      "cell_type": "code",
      "metadata": {
        "id": "q7J_YlVFoLjo"
      },
      "source": [
        "from tensorflow.keras.utils import to_categorical\n",
        "\n",
        "train_labels = to_categorical(train_labels)\n",
        "test_labels = to_categorical(test_labels)"
      ],
      "execution_count": 20,
      "outputs": []
    },
    {
      "cell_type": "markdown",
      "metadata": {
        "id": "mc7icKWdvJnL"
      },
      "source": [
        "label 값을 one-hot-encoding을 수행하여 바꿔주기 위해 수행하는 코드. \r\n",
        "\r\n",
        "이 블럭의 위쪽 블럭을 보면 정답값이 0, 5, 4 처럼 정수형으로 되어있음.\r\n",
        "\r\n",
        "그러나 현재의 블럭의 코드를 수행하고 나면, 이 블럭의 아래 블럭을 보면 정답값의 표현이 one-hot-encoding되어 있음을 알 수 있음. "
      ]
    },
    {
      "cell_type": "code",
      "metadata": {
        "id": "1hh95ezPLTto",
        "colab": {
          "base_uri": "https://localhost:8080/"
        },
        "outputId": "8a66137b-50d6-4891-f114-0e32d58932f3"
      },
      "source": [
        "train_labels"
      ],
      "execution_count": 21,
      "outputs": [
        {
          "output_type": "execute_result",
          "data": {
            "text/plain": [
              "array([[0., 0., 0., ..., 0., 0., 0.],\n",
              "       [1., 0., 0., ..., 0., 0., 0.],\n",
              "       [0., 0., 0., ..., 0., 0., 0.],\n",
              "       ...,\n",
              "       [0., 0., 0., ..., 0., 0., 0.],\n",
              "       [0., 0., 0., ..., 0., 0., 0.],\n",
              "       [0., 0., 0., ..., 0., 1., 0.]], dtype=float32)"
            ]
          },
          "metadata": {
            "tags": []
          },
          "execution_count": 21
        }
      ]
    },
    {
      "cell_type": "markdown",
      "metadata": {
        "id": "z9DV63GGv4TE"
      },
      "source": [
        "label 값을 one-hot-encoding을 수행하여 바꿔준 결과"
      ]
    },
    {
      "cell_type": "markdown",
      "metadata": {
        "id": "gNgdUViGoLjo"
      },
      "source": [
        "We are now ready to train our network, which in Keras is done via a call to the `fit` method of the network: \n",
        "we \"fit\" the model to its training data."
      ]
    },
    {
      "cell_type": "code",
      "metadata": {
        "id": "H-g9hdq5oLjo",
        "colab": {
          "base_uri": "https://localhost:8080/"
        },
        "outputId": "556228bd-a962-4407-c79a-a64c26375350"
      },
      "source": [
        "network.fit(train_images, train_labels, epochs=5, batch_size=128)"
      ],
      "execution_count": 22,
      "outputs": [
        {
          "output_type": "stream",
          "text": [
            "Epoch 1/5\n",
            "469/469 [==============================] - 6s 10ms/step - loss: 0.4245 - accuracy: 0.8782\n",
            "Epoch 2/5\n",
            "469/469 [==============================] - 5s 10ms/step - loss: 0.1077 - accuracy: 0.9682\n",
            "Epoch 3/5\n",
            "469/469 [==============================] - 5s 12ms/step - loss: 0.0653 - accuracy: 0.9803\n",
            "Epoch 4/5\n",
            "469/469 [==============================] - 6s 12ms/step - loss: 0.0479 - accuracy: 0.9858\n",
            "Epoch 5/5\n",
            "469/469 [==============================] - 5s 10ms/step - loss: 0.0352 - accuracy: 0.9904\n"
          ],
          "name": "stdout"
        },
        {
          "output_type": "execute_result",
          "data": {
            "text/plain": [
              "<tensorflow.python.keras.callbacks.History at 0x7f3d4930bd50>"
            ]
          },
          "metadata": {
            "tags": []
          },
          "execution_count": 22
        }
      ]
    },
    {
      "cell_type": "markdown",
      "metadata": {
        "id": "F9u0e9Wjv_Yp"
      },
      "source": [
        "웨이트를 업데이트 하는 코드이다\r\n",
        "\r\n",
        "배치 사이즈 : 샘플을 몇 개씩 사용할 것인가? 128개이니까 한 걸음에 128개씩 사용하면서 나가겠다는 의미이다. \r\n",
        "\r\n",
        "에       폭 : 하나의 트레인 데이터셋을 몇 번 재사용 할 것이냐의 의미이다. "
      ]
    },
    {
      "cell_type": "markdown",
      "metadata": {
        "id": "7zUcmFpnoLjp"
      },
      "source": [
        "Two quantities are being displayed during training: the \"loss\" of the network over the training data, and the accuracy of the network over \n",
        "the training data.\n",
        "\n",
        "We quickly reach an accuracy of 0.989 (i.e. 98.9%) on the training data. Now let's check that our model performs well on the test set too:"
      ]
    },
    {
      "cell_type": "code",
      "metadata": {
        "id": "flM_NwX5oLjp",
        "colab": {
          "base_uri": "https://localhost:8080/"
        },
        "outputId": "a9b558b7-1b07-4d80-b1ed-fa550fad0713"
      },
      "source": [
        "test_loss, test_acc = network.evaluate(test_images, test_labels)"
      ],
      "execution_count": 23,
      "outputs": [
        {
          "output_type": "stream",
          "text": [
            "313/313 [==============================] - 1s 2ms/step - loss: 0.0652 - accuracy: 0.9793\n"
          ],
          "name": "stdout"
        }
      ]
    },
    {
      "cell_type": "code",
      "metadata": {
        "id": "qDmOxvnRoLjq",
        "colab": {
          "base_uri": "https://localhost:8080/"
        },
        "outputId": "b82d028f-c3a6-45cd-9238-d4fefd01cd2d"
      },
      "source": [
        "print('test_acc:', test_acc)"
      ],
      "execution_count": 24,
      "outputs": [
        {
          "output_type": "stream",
          "text": [
            "test_acc: 0.9793000221252441\n"
          ],
          "name": "stdout"
        }
      ]
    },
    {
      "cell_type": "markdown",
      "metadata": {
        "id": "lxWeGm93oLjq"
      },
      "source": [
        "\n",
        "Our test set accuracy turns out to be 97.8% -- that's quite a bit lower than the training set accuracy. \n",
        "This gap between training accuracy and test accuracy is an example of \"overfitting\", \n",
        "the fact that machine learning models tend to perform worse on new data than on their training data. \n",
        "Overfitting will be a central topic in chapter 3.\n",
        "\n",
        "This concludes our very first example -- you just saw how we could build and a train a neural network to classify handwritten digits, in \n",
        "less than 20 lines of Python code. In the next chapter, we will go in detail over every moving piece we just previewed, and clarify what is really \n",
        "going on behind the scenes. You will learn about \"tensors\", the data-storing objects going into the network, about tensor operations, which \n",
        "layers are made of, and about gradient descent, which allows our network to learn from its training examples."
      ]
    }
  ]
}